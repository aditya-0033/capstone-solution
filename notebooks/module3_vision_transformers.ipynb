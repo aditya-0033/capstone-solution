{
 "cells": [
  {
   "cell_type": "markdown",
   "id": "6433b996",
   "metadata": {},
   "source": [
    "# Module 3: Vision Transformers in Keras\n",
    "\n",
    "This notebook completes all 5 tasks related to building a CNN + Vision Transformer hybrid model."
   ]
  },
  {
   "cell_type": "markdown",
   "id": "0fa244c3",
   "metadata": {},
   "source": [
    "## Task 1: Load pre-trained CNN model"
   ]
  },
  {
   "cell_type": "code",
   "execution_count": null,
   "id": "ec720c0f",
   "metadata": {},
   "outputs": [],
   "source": [
    "\n",
    "from tensorflow.keras.applications import ResNet50\n",
    "from tensorflow.keras.models import Model\n",
    "\n",
    "# Load ResNet50 as base CNN model\n",
    "cnn_model = ResNet50(weights=\"imagenet\", include_top=True)\n",
    "\n",
    "# Print summary\n",
    "cnn_model.summary()\n"
   ]
  },
  {
   "cell_type": "markdown",
   "id": "f0f887ae",
   "metadata": {},
   "source": [
    "## Task 2: Get the feature layer name"
   ]
  },
  {
   "cell_type": "code",
   "execution_count": null,
   "id": "2b64bd6f",
   "metadata": {},
   "outputs": [],
   "source": [
    "\n",
    "# Based on summary, choose final average pooling layer for feature extraction\n",
    "feature_layer_name = \"avg_pool\"\n",
    "print(\"Selected feature layer:\", feature_layer_name)\n"
   ]
  },
  {
   "cell_type": "markdown",
   "id": "24ec3803",
   "metadata": {},
   "source": [
    "## Task 3: Define hybrid model architecture"
   ]
  },
  {
   "cell_type": "code",
   "execution_count": null,
   "id": "0c966b89",
   "metadata": {},
   "outputs": [],
   "source": [
    "\n",
    "import tensorflow as tf\n",
    "from tensorflow.keras import layers, models\n",
    "\n",
    "def build_cnn_vit_hybrid(cnn_model, feature_layer_name, num_classes=10):\n",
    "    # Extract features from CNN\n",
    "    feature_extractor = Model(inputs=cnn_model.input, \n",
    "                              outputs=cnn_model.get_layer(feature_layer_name).output)\n",
    "    \n",
    "    inputs = layers.Input(shape=(224,224,3))\n",
    "    x = feature_extractor(inputs, training=False)\n",
    "    \n",
    "    # Expand dims to feed into transformer\n",
    "    x = layers.Reshape((1, x.shape[-1]))(x)\n",
    "    \n",
    "    # Transformer encoder\n",
    "    transformer_block = layers.TransformerBlock(num_heads=4, key_dim=64, ff_dim=128)\n",
    "    x = transformer_block(x)\n",
    "    x = layers.GlobalAveragePooling1D()(x)\n",
    "    \n",
    "    outputs = layers.Dense(num_classes, activation=\"softmax\")(x)\n",
    "    \n",
    "    model = models.Model(inputs, outputs, name=\"cnn_vit_hybrid\")\n",
    "    return model\n",
    "\n",
    "# Build hybrid model\n",
    "hybrid_model = build_cnn_vit_hybrid(cnn_model, feature_layer_name, num_classes=10)\n",
    "hybrid_model.summary()\n"
   ]
  },
  {
   "cell_type": "markdown",
   "id": "4346ed83",
   "metadata": {},
   "source": [
    "## Task 4: Compile hybrid model"
   ]
  },
  {
   "cell_type": "code",
   "execution_count": null,
   "id": "1d191f64",
   "metadata": {},
   "outputs": [],
   "source": [
    "\n",
    "hybrid_model.compile(\n",
    "    optimizer=tf.keras.optimizers.Adam(learning_rate=1e-4),\n",
    "    loss=\"categorical_crossentropy\",\n",
    "    metrics=[\"accuracy\"]\n",
    ")\n"
   ]
  },
  {
   "cell_type": "markdown",
   "id": "a48b46c9",
   "metadata": {},
   "source": [
    "## Task 5: Define training configuration"
   ]
  },
  {
   "cell_type": "code",
   "execution_count": null,
   "id": "4d8cbb5d",
   "metadata": {},
   "outputs": [],
   "source": [
    "\n",
    "# Training configuration (dummy example)\n",
    "batch_size = 32\n",
    "epochs = 5\n",
    "\n",
    "callbacks = [\n",
    "    tf.keras.callbacks.EarlyStopping(monitor=\"val_loss\", patience=3, restore_best_weights=True)\n",
    "]\n",
    "\n",
    "print(\"Training config set:\")\n",
    "print(\"Batch size:\", batch_size)\n",
    "print(\"Epochs:\", epochs)\n",
    "print(\"Callbacks:\", callbacks)\n"
   ]
  }
 ],
 "metadata": {},
 "nbformat": 4,
 "nbformat_minor": 5
}
